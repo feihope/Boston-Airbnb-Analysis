{
 "cells": [
  {
   "cell_type": "markdown",
   "metadata": {},
   "source": [
    "# Section 1: Business Understanding"
   ]
  },
  {
   "attachments": {},
   "cell_type": "markdown",
   "metadata": {},
   "source": [
    "There are thousands of place resources available on Airbnb. Some resources are personalized and provide travelers unique stays. For example, Airbnb can let travelers book entire houses that are not available in traditional hotel or will cost much more money. Airbnb not only provides guests more stay options, but also inspires hosts to rent their own resources and start their own business."
   ]
  },
  {
   "cell_type": "markdown",
   "metadata": {},
   "source": [
    "##### Here are some interesting questions I want to dig deep:\n",
    "1. What’s the most popular listing type in Airbnb? How do the listing types impact the listing price?\n",
    "2. What other factors will influence the listing price?\n",
    "3. What’s the best time to visit Boston?\n",
    "4. Can we use the limit data to estimate the listing price?"
   ]
  },
  {
   "cell_type": "markdown",
   "metadata": {},
   "source": [
    "# Section 2: Data Understanding"
   ]
  },
  {
   "cell_type": "code",
   "execution_count": 1,
   "metadata": {},
   "outputs": [],
   "source": [
    "# import library\n",
    "import numpy as np\n",
    "import pandas as pd\n",
    "import matplotlib.pyplot as plt\n",
    "from sklearn.linear_model import LinearRegression\n",
    "from sklearn.model_selection import train_test_split\n",
    "from sklearn.metrics import r2_score, mean_squared_error\n",
    "import seaborn as sns\n",
    "from decimal import *\n",
    "from IPython import display"
   ]
  },
  {
   "cell_type": "code",
   "execution_count": 2,
   "metadata": {},
   "outputs": [],
   "source": [
    "# read data\n",
    "listings = pd.read_csv('/Users/feichen/Desktop/Boston airbnb dataset/listings.csv')\n",
    "calendar = pd.read_csv('/Users/feichen/Desktop/Boston airbnb dataset/calendar.csv')"
   ]
  },
  {
   "cell_type": "code",
   "execution_count": 3,
   "metadata": {},
   "outputs": [
    {
     "name": "stdout",
     "output_type": "stream",
     "text": [
      "listing data set has 3043 rows\n",
      "listing data set has 74 columns\n",
      "calendar data set has 1048575 rows\n",
      "calendar data set has 7 columns\n"
     ]
    }
   ],
   "source": [
    "# check how many rows and columns for each data set\n",
    "print(\"listing data set has \" + str(listings.shape[0])  +\" rows\") #Provide the number of rows in the dataset\n",
    "print(\"listing data set has \" + str(listings.shape[1]) + \" columns\") #Provide the number of columns in the dataset\n",
    "print(\"calendar data set has \" + str(calendar.shape[0]) + \" rows\") #Provide the number of rows in the dataset\n",
    "print(\"calendar data set has \" + str(calendar.shape[1]) + \" columns\") #Provide the number of columns in the dataset"
   ]
  },
  {
   "cell_type": "markdown",
   "metadata": {},
   "source": [
    "# Section 3: Data Preparation"
   ]
  },
  {
   "cell_type": "markdown",
   "metadata": {},
   "source": [
    "#### Check missing data"
   ]
  },
  {
   "cell_type": "code",
   "execution_count": 4,
   "metadata": {},
   "outputs": [
    {
     "data": {
      "text/plain": [
       "Index(['neighbourhood_group_cleansed', 'bathrooms', 'calendar_updated'], dtype='object')"
      ]
     },
     "execution_count": 4,
     "metadata": {},
     "output_type": "execute_result"
    }
   ],
   "source": [
    "# Check columns contains more than 75% missing values\n",
    "listings.columns[listings.isnull().mean() > 0.75]"
   ]
  },
  {
   "cell_type": "code",
   "execution_count": 5,
   "metadata": {},
   "outputs": [],
   "source": [
    "# Drop columns with high missing percentage\n",
    "listings_new = listings.drop(columns=['neighbourhood_group_cleansed', 'bathrooms', 'calendar_updated'], axis =1)"
   ]
  },
  {
   "cell_type": "code",
   "execution_count": 6,
   "metadata": {},
   "outputs": [
    {
     "data": {
      "text/plain": [
       "Index(['price', 'adjusted_price'], dtype='object')"
      ]
     },
     "execution_count": 6,
     "metadata": {},
     "output_type": "execute_result"
    }
   ],
   "source": [
    "# Check dataset still contatin missing values or not\n",
    "calendar.columns[calendar.isnull().mean()>0]"
   ]
  },
  {
   "cell_type": "code",
   "execution_count": 7,
   "metadata": {},
   "outputs": [],
   "source": [
    "# price column will be our target column, we should remove null values\n",
    "calendar = calendar.dropna(subset=['price']) # Drop NA ins column price"
   ]
  },
  {
   "cell_type": "code",
   "execution_count": 8,
   "metadata": {},
   "outputs": [],
   "source": [
    "# drop rows with missing values\n",
    "listings_new = listings_new.dropna() "
   ]
  },
  {
   "cell_type": "markdown",
   "metadata": {},
   "source": [
    "#### Working with data type "
   ]
  },
  {
   "cell_type": "code",
   "execution_count": 9,
   "metadata": {},
   "outputs": [
    {
     "data": {
      "text/plain": [
       "1     145.0\n",
       "10    226.0\n",
       "11     85.0\n",
       "12    125.0\n",
       "13     80.0\n",
       "Name: price, dtype: float64"
      ]
     },
     "execution_count": 9,
     "metadata": {},
     "output_type": "execute_result"
    }
   ],
   "source": [
    "# the original data set, price column includes $, we need remove dollar sign in listing data set in order to have numric calculation\n",
    "import re\n",
    "listings_new['price'] = listings_new.astype(str).price.apply(\n",
    "    lambda value: re.sub(r'\\$|,', '', value)\n",
    ").astype(float)\n",
    "listings_new['price'].head()"
   ]
  },
  {
   "cell_type": "markdown",
   "metadata": {},
   "source": [
    "#### Remove outliers"
   ]
  },
  {
   "cell_type": "code",
   "execution_count": 10,
   "metadata": {},
   "outputs": [
    {
     "name": "stderr",
     "output_type": "stream",
     "text": [
      "/opt/anaconda3/lib/python3.7/site-packages/seaborn/distributions.py:2551: FutureWarning: `distplot` is a deprecated function and will be removed in a future version. Please adapt your code to use either `displot` (a figure-level function with similar flexibility) or `histplot` (an axes-level function for histograms).\n",
      "  warnings.warn(msg, FutureWarning)\n"
     ]
    },
    {
     "data": {
      "image/png": "[encoded data removed]",
      "text/plain": [
       "<Figure size 1152x360 with 1 Axes>"
      ]
     },
     "metadata": {
      "needs_background": "light"
     },
     "output_type": "display_data"
    }
   ],
   "source": [
    "# check price distribution\n",
    "plt.figure(figsize=(16,5))\n",
    "plt.subplot(1,2,1)\n",
    "sns.distplot(listings_new['price'])\n",
    "plt.show()"
   ]
  },
  {
   "cell_type": "code",
   "execution_count": 11,
   "metadata": {},
   "outputs": [
    {
     "name": "stdout",
     "output_type": "stream",
     "text": [
      "942.8599999999993\n",
      "41.68\n"
     ]
    }
   ],
   "source": [
    "# remove outliers - find top 1% and bottom 1% boundary\n",
    "upper_limit = listings_new['price'].quantile(0.99)\n",
    "lower_limit = listings_new['price'].quantile(0.01)\n",
    "print(upper_limit)\n",
    "print(lower_limit)"
   ]
  },
  {
   "cell_type": "code",
   "execution_count": 12,
   "metadata": {},
   "outputs": [],
   "source": [
    "# remove top 1% price and bottom 1% price\n",
    "listings_new = listings_new[(listings_new['price'] <= 943) & (listings_new['price'] >= 42)]"
   ]
  },
  {
   "cell_type": "code",
   "execution_count": 13,
   "metadata": {},
   "outputs": [
    {
     "data": {
      "text/html": [
       "<div>\n",
       "<style scoped>\n",
       "    .dataframe tbody tr th:only-of-type {\n",
       "        vertical-align: middle;\n",
       "    }\n",
       "\n",
       "    .dataframe tbody tr th {\n",
       "        vertical-align: top;\n",
       "    }\n",
       "\n",
       "    .dataframe thead th {\n",
       "        text-align: right;\n",
       "    }\n",
       "</style>\n",
       "<table border=\"1\" class=\"dataframe\">\n",
       "  <thead>\n",
       "    <tr style=\"text-align: right;\">\n",
       "      <th></th>\n",
       "      <th>id</th>\n",
       "      <th>listing_url</th>\n",
       "      <th>scrape_id</th>\n",
       "      <th>last_scraped</th>\n",
       "      <th>name</th>\n",
       "      <th>description</th>\n",
       "      <th>neighborhood_overview</th>\n",
       "      <th>picture_url</th>\n",
       "      <th>host_id</th>\n",
       "      <th>host_url</th>\n",
       "      <th>...</th>\n",
       "      <th>review_scores_communication</th>\n",
       "      <th>review_scores_location</th>\n",
       "      <th>review_scores_value</th>\n",
       "      <th>license</th>\n",
       "      <th>instant_bookable</th>\n",
       "      <th>calculated_host_listings_count</th>\n",
       "      <th>calculated_host_listings_count_entire_homes</th>\n",
       "      <th>calculated_host_listings_count_private_rooms</th>\n",
       "      <th>calculated_host_listings_count_shared_rooms</th>\n",
       "      <th>reviews_per_month</th>\n",
       "    </tr>\n",
       "  </thead>\n",
       "  <tbody>\n",
       "    <tr>\n",
       "      <td>1</td>\n",
       "      <td>5506</td>\n",
       "      <td>https://www.airbnb.com/rooms/5506</td>\n",
       "      <td>20210712150755</td>\n",
       "      <td>2021-07-12</td>\n",
       "      <td>**Special **   Private! Minutes to center!</td>\n",
       "      <td>Private guest room with private bath, You do n...</td>\n",
       "      <td>Peaceful, Architecturally interesting, histori...</td>\n",
       "      <td>https://a0.muscache.com/pictures/miso/Hosting-...</td>\n",
       "      <td>8229</td>\n",
       "      <td>https://www.airbnb.com/users/show/8229</td>\n",
       "      <td>...</td>\n",
       "      <td>4.89</td>\n",
       "      <td>4.52</td>\n",
       "      <td>4.78</td>\n",
       "      <td>Approved by the government</td>\n",
       "      <td>f</td>\n",
       "      <td>9</td>\n",
       "      <td>9</td>\n",
       "      <td>0</td>\n",
       "      <td>0</td>\n",
       "      <td>0.90</td>\n",
       "    </tr>\n",
       "    <tr>\n",
       "      <td>10</td>\n",
       "      <td>29765</td>\n",
       "      <td>https://www.airbnb.com/rooms/29765</td>\n",
       "      <td>20210712150755</td>\n",
       "      <td>2021-07-12</td>\n",
       "      <td>Luxury suite, Moroccan furnishings</td>\n",
       "      <td>&lt;b&gt;The space&lt;/b&gt;&lt;br /&gt;Romantic, comfortable, a...</td>\n",
       "      <td>Boston's oldest and most historic neighborhood...</td>\n",
       "      <td>https://a0.muscache.com/pictures/621420/77d899...</td>\n",
       "      <td>128280</td>\n",
       "      <td>https://www.airbnb.com/users/show/128280</td>\n",
       "      <td>...</td>\n",
       "      <td>4.97</td>\n",
       "      <td>4.79</td>\n",
       "      <td>4.96</td>\n",
       "      <td>STR-454024</td>\n",
       "      <td>f</td>\n",
       "      <td>1</td>\n",
       "      <td>1</td>\n",
       "      <td>0</td>\n",
       "      <td>0</td>\n",
       "      <td>0.72</td>\n",
       "    </tr>\n",
       "    <tr>\n",
       "      <td>11</td>\n",
       "      <td>40601</td>\n",
       "      <td>https://www.airbnb.com/rooms/40601</td>\n",
       "      <td>20210712150755</td>\n",
       "      <td>2021-07-12</td>\n",
       "      <td>Private room &amp; bath - Jamaica Plain</td>\n",
       "      <td>Private bedroom and bathroom in my house in Ja...</td>\n",
       "      <td>Jamaica Plain is a diverse neighborhood of Bos...</td>\n",
       "      <td>https://a0.muscache.com/pictures/508984/678a92...</td>\n",
       "      <td>174986</td>\n",
       "      <td>https://www.airbnb.com/users/show/174986</td>\n",
       "      <td>...</td>\n",
       "      <td>4.94</td>\n",
       "      <td>4.91</td>\n",
       "      <td>4.94</td>\n",
       "      <td>STR-408632</td>\n",
       "      <td>f</td>\n",
       "      <td>1</td>\n",
       "      <td>0</td>\n",
       "      <td>1</td>\n",
       "      <td>0</td>\n",
       "      <td>0.72</td>\n",
       "    </tr>\n",
       "    <tr>\n",
       "      <td>12</td>\n",
       "      <td>45987</td>\n",
       "      <td>https://www.airbnb.com/rooms/45987</td>\n",
       "      <td>20210712150755</td>\n",
       "      <td>2021-07-12</td>\n",
       "      <td>Gorgeous Garden Studio Charlestown</td>\n",
       "      <td>&lt;b&gt;The space&lt;/b&gt;&lt;br /&gt;Lovely, private garden s...</td>\n",
       "      <td>Historical and safe.</td>\n",
       "      <td>https://a0.muscache.com/pictures/261758/678964...</td>\n",
       "      <td>205107</td>\n",
       "      <td>https://www.airbnb.com/users/show/205107</td>\n",
       "      <td>...</td>\n",
       "      <td>4.68</td>\n",
       "      <td>4.81</td>\n",
       "      <td>4.49</td>\n",
       "      <td>STR-409822</td>\n",
       "      <td>f</td>\n",
       "      <td>1</td>\n",
       "      <td>1</td>\n",
       "      <td>0</td>\n",
       "      <td>0</td>\n",
       "      <td>0.98</td>\n",
       "    </tr>\n",
       "    <tr>\n",
       "      <td>13</td>\n",
       "      <td>60029</td>\n",
       "      <td>https://www.airbnb.com/rooms/60029</td>\n",
       "      <td>20210712150755</td>\n",
       "      <td>2021-07-12</td>\n",
       "      <td>Room in geographical heart of Hub</td>\n",
       "      <td>Small, sunny, private room in quiet but urban ...</td>\n",
       "      <td>Architecturally interesting, historic (Roxbury...</td>\n",
       "      <td>https://a0.muscache.com/pictures/3bf41756-488c...</td>\n",
       "      <td>255183</td>\n",
       "      <td>https://www.airbnb.com/users/show/255183</td>\n",
       "      <td>...</td>\n",
       "      <td>4.91</td>\n",
       "      <td>4.13</td>\n",
       "      <td>4.62</td>\n",
       "      <td>STR-415714</td>\n",
       "      <td>f</td>\n",
       "      <td>5</td>\n",
       "      <td>1</td>\n",
       "      <td>4</td>\n",
       "      <td>0</td>\n",
       "      <td>1.26</td>\n",
       "    </tr>\n",
       "  </tbody>\n",
       "</table>\n",
       "<p>5 rows × 71 columns</p>\n",
       "</div>"
      ],
      "text/plain": [
       "       id                         listing_url       scrape_id last_scraped  \\\n",
       "1    5506   https://www.airbnb.com/rooms/5506  20210712150755   2021-07-12   \n",
       "10  29765  https://www.airbnb.com/rooms/29765  20210712150755   2021-07-12   \n",
       "11  40601  https://www.airbnb.com/rooms/40601  20210712150755   2021-07-12   \n",
       "12  45987  https://www.airbnb.com/rooms/45987  20210712150755   2021-07-12   \n",
       "13  60029  https://www.airbnb.com/rooms/60029  20210712150755   2021-07-12   \n",
       "\n",
       "                                          name  \\\n",
       "1   **Special **   Private! Minutes to center!   \n",
       "10          Luxury suite, Moroccan furnishings   \n",
       "11         Private room & bath - Jamaica Plain   \n",
       "12          Gorgeous Garden Studio Charlestown   \n",
       "13           Room in geographical heart of Hub   \n",
       "\n",
       "                                          description  \\\n",
       "1   Private guest room with private bath, You do n...   \n",
       "10  <b>The space</b><br />Romantic, comfortable, a...   \n",
       "11  Private bedroom and bathroom in my house in Ja...   \n",
       "12  <b>The space</b><br />Lovely, private garden s...   \n",
       "13  Small, sunny, private room in quiet but urban ...   \n",
       "\n",
       "                                neighborhood_overview  \\\n",
       "1   Peaceful, Architecturally interesting, histori...   \n",
       "10  Boston's oldest and most historic neighborhood...   \n",
       "11  Jamaica Plain is a diverse neighborhood of Bos...   \n",
       "12                               Historical and safe.   \n",
       "13  Architecturally interesting, historic (Roxbury...   \n",
       "\n",
       "                                          picture_url  host_id  \\\n",
       "1   https://a0.muscache.com/pictures/miso/Hosting-...     8229   \n",
       "10  https://a0.muscache.com/pictures/621420/77d899...   128280   \n",
       "11  https://a0.muscache.com/pictures/508984/678a92...   174986   \n",
       "12  https://a0.muscache.com/pictures/261758/678964...   205107   \n",
       "13  https://a0.muscache.com/pictures/3bf41756-488c...   255183   \n",
       "\n",
       "                                    host_url  ... review_scores_communication  \\\n",
       "1     https://www.airbnb.com/users/show/8229  ...                        4.89   \n",
       "10  https://www.airbnb.com/users/show/128280  ...                        4.97   \n",
       "11  https://www.airbnb.com/users/show/174986  ...                        4.94   \n",
       "12  https://www.airbnb.com/users/show/205107  ...                        4.68   \n",
       "13  https://www.airbnb.com/users/show/255183  ...                        4.91   \n",
       "\n",
       "   review_scores_location review_scores_value                     license  \\\n",
       "1                    4.52                4.78  Approved by the government   \n",
       "10                   4.79                4.96                  STR-454024   \n",
       "11                   4.91                4.94                  STR-408632   \n",
       "12                   4.81                4.49                  STR-409822   \n",
       "13                   4.13                4.62                  STR-415714   \n",
       "\n",
       "   instant_bookable calculated_host_listings_count  \\\n",
       "1                 f                              9   \n",
       "10                f                              1   \n",
       "11                f                              1   \n",
       "12                f                              1   \n",
       "13                f                              5   \n",
       "\n",
       "   calculated_host_listings_count_entire_homes  \\\n",
       "1                                            9   \n",
       "10                                           1   \n",
       "11                                           0   \n",
       "12                                           1   \n",
       "13                                           1   \n",
       "\n",
       "   calculated_host_listings_count_private_rooms  \\\n",
       "1                                             0   \n",
       "10                                            0   \n",
       "11                                            1   \n",
       "12                                            0   \n",
       "13                                            4   \n",
       "\n",
       "   calculated_host_listings_count_shared_rooms reviews_per_month  \n",
       "1                                            0              0.90  \n",
       "10                                           0              0.72  \n",
       "11                                           0              0.72  \n",
       "12                                           0              0.98  \n",
       "13                                           0              1.26  \n",
       "\n",
       "[5 rows x 71 columns]"
      ]
     },
     "execution_count": 13,
     "metadata": {},
     "output_type": "execute_result"
    }
   ],
   "source": [
    "listings_new.head()"
   ]
  },
  {
   "cell_type": "markdown",
   "metadata": {},
   "source": [
    "# Key factors affect airbnb listing price"
   ]
  },
  {
   "cell_type": "markdown",
   "metadata": {},
   "source": [
    "### Q1: What’s the most popular listing type in Airbnb? How do the listing types impact the listing price?"
   ]
  },
  {
   "cell_type": "code",
   "execution_count": 14,
   "metadata": {},
   "outputs": [
    {
     "data": {
      "image/png": "[encoded data removed]",
      "text/plain": [
       "<Figure size 432x288 with 1 Axes>"
      ]
     },
     "metadata": {
      "needs_background": "light"
     },
     "output_type": "display_data"
    }
   ],
   "source": [
    "common_room_type = listings_new[\"room_type\"].value_counts() \n",
    "(common_room_type/common_room_type.sum()).plot(kind=\"bar\");\n",
    "plt.title(\"What kind of room type?\");"
   ]
  },
  {
   "cell_type": "code",
   "execution_count": 15,
   "metadata": {},
   "outputs": [
    {
     "name": "stderr",
     "output_type": "stream",
     "text": [
      "/opt/anaconda3/lib/python3.7/site-packages/seaborn/distributions.py:2551: FutureWarning: `distplot` is a deprecated function and will be removed in a future version. Please adapt your code to use either `displot` (a figure-level function with similar flexibility) or `histplot` (an axes-level function for histograms).\n",
      "  warnings.warn(msg, FutureWarning)\n"
     ]
    },
    {
     "data": {
      "text/plain": [
       "Text(0, 0.5, '')"
      ]
     },
     "execution_count": 15,
     "metadata": {},
     "output_type": "execute_result"
    },
    {
     "data": {
      "image/png": "[encoded data removed]",
      "text/plain": [
       "<Figure size 1200x400 with 2 Axes>"
      ]
     },
     "metadata": {
      "needs_background": "light"
     },
     "output_type": "display_data"
    }
   ],
   "source": [
    "fig, axs = plt.subplots(1, 2, figsize=(15, 5), dpi=80)\n",
    "sns.boxplot(x='price', y='room_type', fliersize=1, linewidth=0.75,\n",
    "            data=listings_new, palette='Blues',ax=axs[0])\n",
    "axs[0].set_title('Room Type')\n",
    "axs[0].set_xlabel('Price')\n",
    "axs[0].set_ylabel('')\n",
    "\n",
    "sns.distplot(listings_new[listings_new.room_type == 'Private room']['price'],ax=axs[1],kde=False)\n",
    "sns.distplot(listings_new[listings_new.room_type == 'Shared room']['price'],ax=axs[1],kde=False)\n",
    "sns.distplot(listings_new[listings_new.room_type == 'Entire home/apt']['price'],ax=axs[1],kde=False)\n",
    "\n",
    "axs[1].set_title('Room Type')\n",
    "axs[1].set_xlabel('Price')\n",
    "axs[1].set_ylabel('')\n",
    "#plt.savefig('room_price.png', dpi=300, bbox_inches='tight')"
   ]
  },
  {
   "cell_type": "markdown",
   "metadata": {},
   "source": [
    "The hotel room has a higher and comparatively short box plot. This suggests hotel room has a high-level price in Airbnb. The entire home has comparatively tall box plot and also much more listing resources. This suggests entire home has a big price difference regarding every single room resource and the entire home/apt is the most popular resource in Airbnb"
   ]
  },
  {
   "cell_type": "code",
   "execution_count": 16,
   "metadata": {},
   "outputs": [
    {
     "data": {
      "text/plain": [
       "<matplotlib.axes._subplots.AxesSubplot at 0x7ff8f2e08350>"
      ]
     },
     "execution_count": 16,
     "metadata": {},
     "output_type": "execute_result"
    },
    {
     "data": {
      "image/png": "[encoded data removed]",
      "text/plain": [
       "<Figure size 432x288 with 1 Axes>"
      ]
     },
     "metadata": {
      "needs_background": "light"
     },
     "output_type": "display_data"
    }
   ],
   "source": [
    "bedrooms = listings_new.groupby('bedrooms').agg({'price': 'mean'}).reset_index()\n",
    "sns.barplot(\n",
    "    x='bedrooms', y='price',\n",
    "    data=bedrooms,\n",
    "    orient='v',\n",
    "    color='#2F7FBC'\n",
    ")\n",
    "#plt.savefig('bedrooms_price.png', dpi=300, bbox_inches='tight')"
   ]
  },
  {
   "cell_type": "code",
   "execution_count": 17,
   "metadata": {},
   "outputs": [
    {
     "data": {
      "text/plain": [
       "<matplotlib.axes._subplots.AxesSubplot at 0x7ff9087b7590>"
      ]
     },
     "execution_count": 17,
     "metadata": {},
     "output_type": "execute_result"
    },
    {
     "data": {
      "image/png": "[encoded data removed]",
      "text/plain": [
       "<Figure size 432x288 with 1 Axes>"
      ]
     },
     "metadata": {
      "needs_background": "light"
     },
     "output_type": "display_data"
    }
   ],
   "source": [
    "listings_new[\"bathrooms_text_number\"] = listings_new[\"bathrooms_text\"].str.split(\" \").str[0]\n",
    "bath = listings_new['bathrooms_text_number'].value_counts()\n",
    "(bath/bath.sum()).plot(kind='bar', legend=None)"
   ]
  },
  {
   "cell_type": "code",
   "execution_count": 18,
   "metadata": {},
   "outputs": [
    {
     "data": {
      "text/plain": [
       "[Text(0, 0.5, 'number of bathrooms'), Text(0.5, 0, 'price')]"
      ]
     },
     "execution_count": 18,
     "metadata": {},
     "output_type": "execute_result"
    },
    {
     "data": {
      "image/png": "[encoded data removed]",
      "text/plain": [
       "<Figure size 432x288 with 1 Axes>"
      ]
     },
     "metadata": {
      "needs_background": "light"
     },
     "output_type": "display_data"
    }
   ],
   "source": [
    "sns.boxplot(x='price', y='bathrooms_text_number', fliersize=1, linewidth=0.75,\n",
    "            data=listings_new, palette='Blues',order = [\"1\",\"1.5\",\"2\",\"2.5\",\"3\",\"3.5\",\"4.5\"]).set(xlabel='price', ylabel='number of bathrooms')\n",
    "# plt.savefig('bathroom_price_2.png', dpi=300, bbox_inches='tight')"
   ]
  },
  {
   "cell_type": "markdown",
   "metadata": {},
   "source": [
    "From the histogram, we can clearly see that the number of bedrooms will impact the listing price, and the more bedrooms the place resources has, the higher price the homeowner can command. Similarly, the number of bathrooms has a positive impact on listing price. "
   ]
  },
  {
   "cell_type": "markdown",
   "metadata": {},
   "source": [
    "### Q2: What other factors will influence the listing price? will instant booking influence listing price?"
   ]
  },
  {
   "cell_type": "code",
   "execution_count": 19,
   "metadata": {},
   "outputs": [
    {
     "data": {
      "text/plain": [
       "<matplotlib.axes._subplots.AxesSubplot at 0x7ff8f34e4510>"
      ]
     },
     "execution_count": 19,
     "metadata": {},
     "output_type": "execute_result"
    },
    {
     "data": {
      "image/png": "[encoded data removed]",
      "text/plain": [
       "<Figure size 1200x400 with 2 Axes>"
      ]
     },
     "metadata": {
      "needs_background": "light"
     },
     "output_type": "display_data"
    }
   ],
   "source": [
    "fig, axs = plt.subplots(1, 2, figsize=(15, 5), dpi=80)\n",
    "\n",
    "instant_book = listings_new['instant_bookable'].value_counts()\n",
    "(instant_book/instant_book.sum()).plot(kind='bar', legend=None,ax=axs[0])\n",
    "\n",
    "sns.boxplot(x='price', y='instant_bookable', fliersize=1, linewidth=0.75,\n",
    "            data=listings_new, palette='Blues',ax=axs[1])\n",
    "#plt.savefig('instant_booking.png', dpi=300, bbox_inches='tight')"
   ]
  },
  {
   "cell_type": "markdown",
   "metadata": {},
   "source": [
    "According to the below charts, more than half of the listing homes are not allowed instant bookings. But instant booking feature has slightly influence on listing price. The homes are allow to instant booking can set a higher price on average."
   ]
  },
  {
   "cell_type": "markdown",
   "metadata": {},
   "source": [
    "### Will neighborhood influence listing price?"
   ]
  },
  {
   "cell_type": "code",
   "execution_count": 20,
   "metadata": {},
   "outputs": [
    {
     "data": {
      "text/html": [
       "<div>\n",
       "<style scoped>\n",
       "    .dataframe tbody tr th:only-of-type {\n",
       "        vertical-align: middle;\n",
       "    }\n",
       "\n",
       "    .dataframe tbody tr th {\n",
       "        vertical-align: top;\n",
       "    }\n",
       "\n",
       "    .dataframe thead th {\n",
       "        text-align: right;\n",
       "    }\n",
       "</style>\n",
       "<table border=\"1\" class=\"dataframe\">\n",
       "  <thead>\n",
       "    <tr style=\"text-align: right;\">\n",
       "      <th></th>\n",
       "      <th>neighbourhood_cleansed</th>\n",
       "      <th>price</th>\n",
       "    </tr>\n",
       "  </thead>\n",
       "  <tbody>\n",
       "    <tr>\n",
       "      <td>0</td>\n",
       "      <td>Fenway</td>\n",
       "      <td>316.800000</td>\n",
       "    </tr>\n",
       "    <tr>\n",
       "      <td>1</td>\n",
       "      <td>West End</td>\n",
       "      <td>308.400000</td>\n",
       "    </tr>\n",
       "    <tr>\n",
       "      <td>2</td>\n",
       "      <td>Chinatown</td>\n",
       "      <td>302.666667</td>\n",
       "    </tr>\n",
       "    <tr>\n",
       "      <td>3</td>\n",
       "      <td>Downtown</td>\n",
       "      <td>292.049180</td>\n",
       "    </tr>\n",
       "    <tr>\n",
       "      <td>4</td>\n",
       "      <td>Beacon Hill</td>\n",
       "      <td>263.000000</td>\n",
       "    </tr>\n",
       "  </tbody>\n",
       "</table>\n",
       "</div>"
      ],
      "text/plain": [
       "  neighbourhood_cleansed       price\n",
       "0                 Fenway  316.800000\n",
       "1               West End  308.400000\n",
       "2              Chinatown  302.666667\n",
       "3               Downtown  292.049180\n",
       "4            Beacon Hill  263.000000"
      ]
     },
     "execution_count": 20,
     "metadata": {},
     "output_type": "execute_result"
    }
   ],
   "source": [
    "# get average price for each neighbourhood\n",
    "new = listings_new.groupby(by=[\"neighbourhood_cleansed\"])[\"price\"].mean().sort_values(ascending=False).reset_index()\n",
    "new.head()"
   ]
  },
  {
   "cell_type": "code",
   "execution_count": 21,
   "metadata": {},
   "outputs": [
    {
     "data": {
      "image/png": "[encoded data removed]",
      "text/plain": [
       "<Figure size 2016x576 with 1 Axes>"
      ]
     },
     "metadata": {
      "needs_background": "light"
     },
     "output_type": "display_data"
    }
   ],
   "source": [
    "plt.figure(figsize=(28,8))\n",
    "plots = sns.barplot(\n",
    "    x='neighbourhood_cleansed', y='price',\n",
    "    data= new,\n",
    "    color='#2F7FBC'\n",
    ")\n",
    "\n",
    "for bar in plots.patches:\n",
    "    plots.annotate(format(bar.get_height(), '.2f'),\n",
    "                   (bar.get_x() + bar.get_width() / 2,\n",
    "                    bar.get_height()), ha='center', va='center',\n",
    "                   size=15, xytext=(0, 8),\n",
    "                   textcoords='offset points')\n",
    "    \n",
    "ax = plt.gca()\n",
    "ax.set_xticklabels(ax.get_xticklabels(), rotation=45, fontsize=12)\n",
    "\n",
    "plt.show()"
   ]
  },
  {
   "cell_type": "markdown",
   "metadata": {},
   "source": [
    "Absolutely, the neighborhood have significantly influence on room price. In the Fenway, the average price of listings is around 317 dollars, which is the most expensive area. The Mattapan area cost around $94 for a room, which is one thrid of price in the Fenway."
   ]
  },
  {
   "cell_type": "markdown",
   "metadata": {},
   "source": [
    "### Q3: What’s the best time to visit Boston?"
   ]
  },
  {
   "cell_type": "code",
   "execution_count": 22,
   "metadata": {},
   "outputs": [],
   "source": [
    "## We use calendar dataset to analyze this issuse, so we also need remove $ for price column and format month column\n",
    "##remove dollar sign\n",
    "import re\n",
    "calendar['price'] = calendar.astype(str).price.apply(\n",
    "    lambda value: re.sub(r'\\$|,', '', value)\n",
    ").astype(float)\n",
    "# work with month\n",
    "calendar[\"month\"] = calendar[\"date\"].str.split(\"/\").str[0]\n",
    "calendar['month'] = calendar['month'].replace({\n",
    "    '1': 'Jan',\n",
    "    '2': 'Feb',\n",
    "    '3': 'Mar',\n",
    "    '4': 'Apr',\n",
    "    '5': 'May',\n",
    "    '6': 'Jun',\n",
    "    '7': 'Jul',\n",
    "    '8': 'Aug',\n",
    "    '9': 'Sep',\n",
    "    '10': 'Oct',\n",
    "    '11': 'Nov',\n",
    "    '12': 'Dec'\n",
    "})\n",
    "calendar[\"month\"] = calendar[\"month\"].astype('category')\n",
    "sorter = ['Jan', 'Feb', 'Mar', 'Apr', 'May', 'Jun',\n",
    "          'Jul', 'Aug', 'Sep', 'Oct', 'Nov', 'Dec']\n",
    "calendar[\"month\"].cat.set_categories(sorter, inplace=True)\n"
   ]
  },
  {
   "cell_type": "code",
   "execution_count": 23,
   "metadata": {},
   "outputs": [
    {
     "data": {
      "text/plain": [
       "<matplotlib.axes._subplots.AxesSubplot at 0x7ff90d337190>"
      ]
     },
     "execution_count": 23,
     "metadata": {},
     "output_type": "execute_result"
    },
    {
     "data": {
      "image/png": "[encoded data removed]",
      "text/plain": [
       "<Figure size 1200x400 with 2 Axes>"
      ]
     },
     "metadata": {
      "needs_background": "light"
     },
     "output_type": "display_data"
    }
   ],
   "source": [
    "fig, axs = plt.subplots(1, 2, figsize=(15, 5), dpi=80)\n",
    "\n",
    "month_price = calendar.groupby(\"month\").agg({'price': 'mean'}).reset_index()\n",
    "sns.barplot(\n",
    "    x='month', y='price',\n",
    "    data= month_price,\n",
    "    color='#2F7FBC',\n",
    "    ax=axs[0]\n",
    ")\n",
    "\n",
    "\n",
    "calendar['available'] = calendar['available'].replace({\n",
    "    'f': 0,\n",
    "    't': 1,})\n",
    "vacancy = calendar.groupby(\"month\").agg({'available': 'mean'}).reset_index()\n",
    "sns.lineplot(\n",
    "    x='month', y='available',\n",
    "    data= vacancy,\n",
    "    color='#2F7FBC',\n",
    "    ax=axs[1]\n",
    ")\n"
   ]
  },
  {
   "cell_type": "markdown",
   "metadata": {},
   "source": [
    "We can see the average listing price in Boston does not change too much every month. There are couple of months have a slightly higher average listing price. The listing price is a little higher from the April to October compare to other months. Additionally, the vacancy rate is also low from April to August, especially in July. The best time to visit Boston is from April to October."
   ]
  },
  {
   "cell_type": "markdown",
   "metadata": {},
   "source": [
    "# Section 4: Modeling"
   ]
  },
  {
   "cell_type": "markdown",
   "metadata": {},
   "source": [
    "#### How to estimate the listing room price? "
   ]
  },
  {
   "cell_type": "code",
   "execution_count": 24,
   "metadata": {},
   "outputs": [
    {
     "data": {
      "text/html": [
       "<div>\n",
       "<style scoped>\n",
       "    .dataframe tbody tr th:only-of-type {\n",
       "        vertical-align: middle;\n",
       "    }\n",
       "\n",
       "    .dataframe tbody tr th {\n",
       "        vertical-align: top;\n",
       "    }\n",
       "\n",
       "    .dataframe thead th {\n",
       "        text-align: right;\n",
       "    }\n",
       "</style>\n",
       "<table border=\"1\" class=\"dataframe\">\n",
       "  <thead>\n",
       "    <tr style=\"text-align: right;\">\n",
       "      <th></th>\n",
       "      <th>bathrooms_text_number</th>\n",
       "      <th>accommodates</th>\n",
       "      <th>bedrooms</th>\n",
       "      <th>beds</th>\n",
       "      <th>number_of_reviews</th>\n",
       "      <th>review_scores_rating</th>\n",
       "      <th>review_scores_accuracy</th>\n",
       "      <th>review_scores_cleanliness</th>\n",
       "      <th>review_scores_checkin</th>\n",
       "      <th>review_scores_communication</th>\n",
       "      <th>review_scores_location</th>\n",
       "      <th>review_scores_value</th>\n",
       "      <th>reviews_per_month</th>\n",
       "    </tr>\n",
       "  </thead>\n",
       "  <tbody>\n",
       "    <tr>\n",
       "      <td>1</td>\n",
       "      <td>1</td>\n",
       "      <td>2</td>\n",
       "      <td>1.0</td>\n",
       "      <td>1.0</td>\n",
       "      <td>107</td>\n",
       "      <td>4.77</td>\n",
       "      <td>4.87</td>\n",
       "      <td>4.89</td>\n",
       "      <td>4.95</td>\n",
       "      <td>4.89</td>\n",
       "      <td>4.52</td>\n",
       "      <td>4.78</td>\n",
       "      <td>0.90</td>\n",
       "    </tr>\n",
       "    <tr>\n",
       "      <td>10</td>\n",
       "      <td>1</td>\n",
       "      <td>2</td>\n",
       "      <td>1.0</td>\n",
       "      <td>1.0</td>\n",
       "      <td>94</td>\n",
       "      <td>4.96</td>\n",
       "      <td>4.95</td>\n",
       "      <td>4.98</td>\n",
       "      <td>5.00</td>\n",
       "      <td>4.97</td>\n",
       "      <td>4.79</td>\n",
       "      <td>4.96</td>\n",
       "      <td>0.72</td>\n",
       "    </tr>\n",
       "    <tr>\n",
       "      <td>11</td>\n",
       "      <td>1.5</td>\n",
       "      <td>2</td>\n",
       "      <td>1.0</td>\n",
       "      <td>1.0</td>\n",
       "      <td>80</td>\n",
       "      <td>4.97</td>\n",
       "      <td>4.95</td>\n",
       "      <td>5.00</td>\n",
       "      <td>4.97</td>\n",
       "      <td>4.94</td>\n",
       "      <td>4.91</td>\n",
       "      <td>4.94</td>\n",
       "      <td>0.72</td>\n",
       "    </tr>\n",
       "    <tr>\n",
       "      <td>12</td>\n",
       "      <td>1</td>\n",
       "      <td>3</td>\n",
       "      <td>1.0</td>\n",
       "      <td>0.0</td>\n",
       "      <td>130</td>\n",
       "      <td>4.63</td>\n",
       "      <td>4.66</td>\n",
       "      <td>4.76</td>\n",
       "      <td>4.73</td>\n",
       "      <td>4.68</td>\n",
       "      <td>4.81</td>\n",
       "      <td>4.49</td>\n",
       "      <td>0.98</td>\n",
       "    </tr>\n",
       "    <tr>\n",
       "      <td>13</td>\n",
       "      <td>1</td>\n",
       "      <td>1</td>\n",
       "      <td>1.0</td>\n",
       "      <td>1.0</td>\n",
       "      <td>141</td>\n",
       "      <td>4.73</td>\n",
       "      <td>4.65</td>\n",
       "      <td>4.58</td>\n",
       "      <td>4.86</td>\n",
       "      <td>4.91</td>\n",
       "      <td>4.13</td>\n",
       "      <td>4.62</td>\n",
       "      <td>1.26</td>\n",
       "    </tr>\n",
       "  </tbody>\n",
       "</table>\n",
       "</div>"
      ],
      "text/plain": [
       "   bathrooms_text_number  accommodates  bedrooms  beds  number_of_reviews  \\\n",
       "1                      1             2       1.0   1.0                107   \n",
       "10                     1             2       1.0   1.0                 94   \n",
       "11                   1.5             2       1.0   1.0                 80   \n",
       "12                     1             3       1.0   0.0                130   \n",
       "13                     1             1       1.0   1.0                141   \n",
       "\n",
       "    review_scores_rating  review_scores_accuracy  review_scores_cleanliness  \\\n",
       "1                   4.77                    4.87                       4.89   \n",
       "10                  4.96                    4.95                       4.98   \n",
       "11                  4.97                    4.95                       5.00   \n",
       "12                  4.63                    4.66                       4.76   \n",
       "13                  4.73                    4.65                       4.58   \n",
       "\n",
       "    review_scores_checkin  review_scores_communication  \\\n",
       "1                    4.95                         4.89   \n",
       "10                   5.00                         4.97   \n",
       "11                   4.97                         4.94   \n",
       "12                   4.73                         4.68   \n",
       "13                   4.86                         4.91   \n",
       "\n",
       "    review_scores_location  review_scores_value  reviews_per_month  \n",
       "1                     4.52                 4.78               0.90  \n",
       "10                    4.79                 4.96               0.72  \n",
       "11                    4.91                 4.94               0.72  \n",
       "12                    4.81                 4.49               0.98  \n",
       "13                    4.13                 4.62               1.26  "
      ]
     },
     "execution_count": 24,
     "metadata": {},
     "output_type": "execute_result"
    }
   ],
   "source": [
    "# Get numeric columns\n",
    "num_columns = listings_new[[\"bathrooms_text_number\",\"accommodates\",\"bedrooms\",\"beds\",\"number_of_reviews\",\n",
    "                            \"review_scores_rating\",\"review_scores_accuracy\",\"review_scores_cleanliness\",\n",
    "                            \"review_scores_checkin\",\"review_scores_communication\",\"review_scores_location\",\n",
    "                            \"review_scores_value\",\"reviews_per_month\"]]\n",
    "num_columns.head()"
   ]
  },
  {
   "cell_type": "code",
   "execution_count": 25,
   "metadata": {},
   "outputs": [
    {
     "data": {
      "text/html": [
       "<div>\n",
       "<style scoped>\n",
       "    .dataframe tbody tr th:only-of-type {\n",
       "        vertical-align: middle;\n",
       "    }\n",
       "\n",
       "    .dataframe tbody tr th {\n",
       "        vertical-align: top;\n",
       "    }\n",
       "\n",
       "    .dataframe thead th {\n",
       "        text-align: right;\n",
       "    }\n",
       "</style>\n",
       "<table border=\"1\" class=\"dataframe\">\n",
       "  <thead>\n",
       "    <tr style=\"text-align: right;\">\n",
       "      <th></th>\n",
       "      <th>host_response_time</th>\n",
       "      <th>host_is_superhost</th>\n",
       "      <th>neighbourhood_cleansed</th>\n",
       "      <th>room_type</th>\n",
       "      <th>instant_bookable</th>\n",
       "    </tr>\n",
       "  </thead>\n",
       "  <tbody>\n",
       "    <tr>\n",
       "      <td>1</td>\n",
       "      <td>within an hour</td>\n",
       "      <td>t</td>\n",
       "      <td>Roxbury</td>\n",
       "      <td>Entire home/apt</td>\n",
       "      <td>f</td>\n",
       "    </tr>\n",
       "    <tr>\n",
       "      <td>10</td>\n",
       "      <td>within a few hours</td>\n",
       "      <td>f</td>\n",
       "      <td>Charlestown</td>\n",
       "      <td>Entire home/apt</td>\n",
       "      <td>f</td>\n",
       "    </tr>\n",
       "    <tr>\n",
       "      <td>11</td>\n",
       "      <td>within a few hours</td>\n",
       "      <td>t</td>\n",
       "      <td>Jamaica Plain</td>\n",
       "      <td>Private room</td>\n",
       "      <td>f</td>\n",
       "    </tr>\n",
       "    <tr>\n",
       "      <td>12</td>\n",
       "      <td>within a day</td>\n",
       "      <td>t</td>\n",
       "      <td>Charlestown</td>\n",
       "      <td>Entire home/apt</td>\n",
       "      <td>f</td>\n",
       "    </tr>\n",
       "    <tr>\n",
       "      <td>13</td>\n",
       "      <td>within an hour</td>\n",
       "      <td>t</td>\n",
       "      <td>Roxbury</td>\n",
       "      <td>Private room</td>\n",
       "      <td>f</td>\n",
       "    </tr>\n",
       "  </tbody>\n",
       "</table>\n",
       "</div>"
      ],
      "text/plain": [
       "    host_response_time host_is_superhost neighbourhood_cleansed  \\\n",
       "1       within an hour                 t                Roxbury   \n",
       "10  within a few hours                 f            Charlestown   \n",
       "11  within a few hours                 t          Jamaica Plain   \n",
       "12        within a day                 t            Charlestown   \n",
       "13      within an hour                 t                Roxbury   \n",
       "\n",
       "          room_type instant_bookable  \n",
       "1   Entire home/apt                f  \n",
       "10  Entire home/apt                f  \n",
       "11     Private room                f  \n",
       "12  Entire home/apt                f  \n",
       "13     Private room                f  "
      ]
     },
     "execution_count": 25,
     "metadata": {},
     "output_type": "execute_result"
    }
   ],
   "source": [
    "# Get categorical columns\n",
    "cat_columns = listings_new[[\"host_response_time\",\"host_is_superhost\",\"neighbourhood_cleansed\",\"room_type\",\n",
    "                            \"instant_bookable\"]]\n",
    "cat_columns.head()"
   ]
  },
  {
   "cell_type": "code",
   "execution_count": 35,
   "metadata": {},
   "outputs": [
    {
     "data": {
      "text/html": [
       "<div>\n",
       "<style scoped>\n",
       "    .dataframe tbody tr th:only-of-type {\n",
       "        vertical-align: middle;\n",
       "    }\n",
       "\n",
       "    .dataframe tbody tr th {\n",
       "        vertical-align: top;\n",
       "    }\n",
       "\n",
       "    .dataframe thead th {\n",
       "        text-align: right;\n",
       "    }\n",
       "</style>\n",
       "<table border=\"1\" class=\"dataframe\">\n",
       "  <thead>\n",
       "    <tr style=\"text-align: right;\">\n",
       "      <th></th>\n",
       "      <th>bathrooms_text_number</th>\n",
       "      <th>accommodates</th>\n",
       "      <th>bedrooms</th>\n",
       "      <th>beds</th>\n",
       "      <th>number_of_reviews</th>\n",
       "      <th>review_scores_rating</th>\n",
       "      <th>review_scores_accuracy</th>\n",
       "      <th>review_scores_cleanliness</th>\n",
       "      <th>review_scores_checkin</th>\n",
       "      <th>review_scores_communication</th>\n",
       "      <th>...</th>\n",
       "      <th>neighbourhood_cleansed_Roxbury</th>\n",
       "      <th>neighbourhood_cleansed_South Boston</th>\n",
       "      <th>neighbourhood_cleansed_South Boston Waterfront</th>\n",
       "      <th>neighbourhood_cleansed_South End</th>\n",
       "      <th>neighbourhood_cleansed_West End</th>\n",
       "      <th>neighbourhood_cleansed_West Roxbury</th>\n",
       "      <th>room_type_Hotel room</th>\n",
       "      <th>room_type_Private room</th>\n",
       "      <th>room_type_Shared room</th>\n",
       "      <th>instant_bookable_t</th>\n",
       "    </tr>\n",
       "  </thead>\n",
       "  <tbody>\n",
       "    <tr>\n",
       "      <td>1</td>\n",
       "      <td>1.0</td>\n",
       "      <td>2</td>\n",
       "      <td>1.0</td>\n",
       "      <td>1.0</td>\n",
       "      <td>107</td>\n",
       "      <td>4.77</td>\n",
       "      <td>4.87</td>\n",
       "      <td>4.89</td>\n",
       "      <td>4.95</td>\n",
       "      <td>4.89</td>\n",
       "      <td>...</td>\n",
       "      <td>1</td>\n",
       "      <td>0</td>\n",
       "      <td>0</td>\n",
       "      <td>0</td>\n",
       "      <td>0</td>\n",
       "      <td>0</td>\n",
       "      <td>0</td>\n",
       "      <td>0</td>\n",
       "      <td>0</td>\n",
       "      <td>0</td>\n",
       "    </tr>\n",
       "    <tr>\n",
       "      <td>10</td>\n",
       "      <td>1.0</td>\n",
       "      <td>2</td>\n",
       "      <td>1.0</td>\n",
       "      <td>1.0</td>\n",
       "      <td>94</td>\n",
       "      <td>4.96</td>\n",
       "      <td>4.95</td>\n",
       "      <td>4.98</td>\n",
       "      <td>5.00</td>\n",
       "      <td>4.97</td>\n",
       "      <td>...</td>\n",
       "      <td>0</td>\n",
       "      <td>0</td>\n",
       "      <td>0</td>\n",
       "      <td>0</td>\n",
       "      <td>0</td>\n",
       "      <td>0</td>\n",
       "      <td>0</td>\n",
       "      <td>0</td>\n",
       "      <td>0</td>\n",
       "      <td>0</td>\n",
       "    </tr>\n",
       "    <tr>\n",
       "      <td>11</td>\n",
       "      <td>1.5</td>\n",
       "      <td>2</td>\n",
       "      <td>1.0</td>\n",
       "      <td>1.0</td>\n",
       "      <td>80</td>\n",
       "      <td>4.97</td>\n",
       "      <td>4.95</td>\n",
       "      <td>5.00</td>\n",
       "      <td>4.97</td>\n",
       "      <td>4.94</td>\n",
       "      <td>...</td>\n",
       "      <td>0</td>\n",
       "      <td>0</td>\n",
       "      <td>0</td>\n",
       "      <td>0</td>\n",
       "      <td>0</td>\n",
       "      <td>0</td>\n",
       "      <td>0</td>\n",
       "      <td>1</td>\n",
       "      <td>0</td>\n",
       "      <td>0</td>\n",
       "    </tr>\n",
       "    <tr>\n",
       "      <td>12</td>\n",
       "      <td>1.0</td>\n",
       "      <td>3</td>\n",
       "      <td>1.0</td>\n",
       "      <td>0.0</td>\n",
       "      <td>130</td>\n",
       "      <td>4.63</td>\n",
       "      <td>4.66</td>\n",
       "      <td>4.76</td>\n",
       "      <td>4.73</td>\n",
       "      <td>4.68</td>\n",
       "      <td>...</td>\n",
       "      <td>0</td>\n",
       "      <td>0</td>\n",
       "      <td>0</td>\n",
       "      <td>0</td>\n",
       "      <td>0</td>\n",
       "      <td>0</td>\n",
       "      <td>0</td>\n",
       "      <td>0</td>\n",
       "      <td>0</td>\n",
       "      <td>0</td>\n",
       "    </tr>\n",
       "    <tr>\n",
       "      <td>13</td>\n",
       "      <td>1.0</td>\n",
       "      <td>1</td>\n",
       "      <td>1.0</td>\n",
       "      <td>1.0</td>\n",
       "      <td>141</td>\n",
       "      <td>4.73</td>\n",
       "      <td>4.65</td>\n",
       "      <td>4.58</td>\n",
       "      <td>4.86</td>\n",
       "      <td>4.91</td>\n",
       "      <td>...</td>\n",
       "      <td>1</td>\n",
       "      <td>0</td>\n",
       "      <td>0</td>\n",
       "      <td>0</td>\n",
       "      <td>0</td>\n",
       "      <td>0</td>\n",
       "      <td>0</td>\n",
       "      <td>1</td>\n",
       "      <td>0</td>\n",
       "      <td>0</td>\n",
       "    </tr>\n",
       "  </tbody>\n",
       "</table>\n",
       "<p>5 rows × 44 columns</p>\n",
       "</div>"
      ],
      "text/plain": [
       "    bathrooms_text_number  accommodates  bedrooms  beds  number_of_reviews  \\\n",
       "1                     1.0             2       1.0   1.0                107   \n",
       "10                    1.0             2       1.0   1.0                 94   \n",
       "11                    1.5             2       1.0   1.0                 80   \n",
       "12                    1.0             3       1.0   0.0                130   \n",
       "13                    1.0             1       1.0   1.0                141   \n",
       "\n",
       "    review_scores_rating  review_scores_accuracy  review_scores_cleanliness  \\\n",
       "1                   4.77                    4.87                       4.89   \n",
       "10                  4.96                    4.95                       4.98   \n",
       "11                  4.97                    4.95                       5.00   \n",
       "12                  4.63                    4.66                       4.76   \n",
       "13                  4.73                    4.65                       4.58   \n",
       "\n",
       "    review_scores_checkin  review_scores_communication  ...  \\\n",
       "1                    4.95                         4.89  ...   \n",
       "10                   5.00                         4.97  ...   \n",
       "11                   4.97                         4.94  ...   \n",
       "12                   4.73                         4.68  ...   \n",
       "13                   4.86                         4.91  ...   \n",
       "\n",
       "    neighbourhood_cleansed_Roxbury  neighbourhood_cleansed_South Boston  \\\n",
       "1                                1                                    0   \n",
       "10                               0                                    0   \n",
       "11                               0                                    0   \n",
       "12                               0                                    0   \n",
       "13                               1                                    0   \n",
       "\n",
       "    neighbourhood_cleansed_South Boston Waterfront  \\\n",
       "1                                                0   \n",
       "10                                               0   \n",
       "11                                               0   \n",
       "12                                               0   \n",
       "13                                               0   \n",
       "\n",
       "    neighbourhood_cleansed_South End  neighbourhood_cleansed_West End  \\\n",
       "1                                  0                                0   \n",
       "10                                 0                                0   \n",
       "11                                 0                                0   \n",
       "12                                 0                                0   \n",
       "13                                 0                                0   \n",
       "\n",
       "    neighbourhood_cleansed_West Roxbury  room_type_Hotel room  \\\n",
       "1                                     0                     0   \n",
       "10                                    0                     0   \n",
       "11                                    0                     0   \n",
       "12                                    0                     0   \n",
       "13                                    0                     0   \n",
       "\n",
       "    room_type_Private room  room_type_Shared room  instant_bookable_t  \n",
       "1                        0                      0                   0  \n",
       "10                       0                      0                   0  \n",
       "11                       1                      0                   0  \n",
       "12                       0                      0                   0  \n",
       "13                       1                      0                   0  \n",
       "\n",
       "[5 rows x 44 columns]"
      ]
     },
     "execution_count": 35,
     "metadata": {},
     "output_type": "execute_result"
    }
   ],
   "source": [
    "#Create a copy of the dataframe\n",
    "listings_new_copy = listings_new.copy()\n",
    "#Pull a list of the column names of the categorical variables\n",
    "#cat_cols_lst = listings_new.columns\n",
    "\n",
    "def create_dummy_df(df, cat_cols, dummy_na):\n",
    "    for col in  cat_cols:\n",
    "        try:\n",
    "            # for each cat add dummy var, drop original column\n",
    "            df = pd.concat([df.drop(col, axis=1), pd.get_dummies(df[col], prefix=col, prefix_sep='_', drop_first=True, dummy_na=dummy_na)], axis=1)\n",
    "        except:\n",
    "            continue\n",
    "    return df\n",
    "\n",
    "create_dummy_df(df, cat_columns, dummy_na=False).head()\n"
   ]
  },
  {
   "cell_type": "code",
   "execution_count": 28,
   "metadata": {},
   "outputs": [
    {
     "data": {
      "text/html": [
       "<div>\n",
       "<style scoped>\n",
       "    .dataframe tbody tr th:only-of-type {\n",
       "        vertical-align: middle;\n",
       "    }\n",
       "\n",
       "    .dataframe tbody tr th {\n",
       "        vertical-align: top;\n",
       "    }\n",
       "\n",
       "    .dataframe thead th {\n",
       "        text-align: right;\n",
       "    }\n",
       "</style>\n",
       "<table border=\"1\" class=\"dataframe\">\n",
       "  <thead>\n",
       "    <tr style=\"text-align: right;\">\n",
       "      <th></th>\n",
       "      <th>listing_url</th>\n",
       "      <th>last_scraped</th>\n",
       "      <th>name</th>\n",
       "      <th>description</th>\n",
       "      <th>neighborhood_overview</th>\n",
       "      <th>picture_url</th>\n",
       "      <th>host_url</th>\n",
       "      <th>host_name</th>\n",
       "      <th>host_since</th>\n",
       "      <th>host_location</th>\n",
       "      <th>...</th>\n",
       "      <th>room_type</th>\n",
       "      <th>bathrooms_text</th>\n",
       "      <th>amenities</th>\n",
       "      <th>has_availability</th>\n",
       "      <th>calendar_last_scraped</th>\n",
       "      <th>first_review</th>\n",
       "      <th>last_review</th>\n",
       "      <th>license</th>\n",
       "      <th>instant_bookable</th>\n",
       "      <th>bathrooms_text_number</th>\n",
       "    </tr>\n",
       "  </thead>\n",
       "  <tbody>\n",
       "    <tr>\n",
       "      <td>1</td>\n",
       "      <td>https://www.airbnb.com/rooms/5506</td>\n",
       "      <td>2021-07-12</td>\n",
       "      <td>**Special **   Private! Minutes to center!</td>\n",
       "      <td>Private guest room with private bath, You do n...</td>\n",
       "      <td>Peaceful, Architecturally interesting, histori...</td>\n",
       "      <td>https://a0.muscache.com/pictures/miso/Hosting-...</td>\n",
       "      <td>https://www.airbnb.com/users/show/8229</td>\n",
       "      <td>Terry</td>\n",
       "      <td>2009-02-19</td>\n",
       "      <td>Boston, Massachusetts, United States</td>\n",
       "      <td>...</td>\n",
       "      <td>Entire home/apt</td>\n",
       "      <td>1 bath</td>\n",
       "      <td>[\"Washer\", \"Free street parking\", \"First aid k...</td>\n",
       "      <td>t</td>\n",
       "      <td>2021-07-12</td>\n",
       "      <td>2011-10-23</td>\n",
       "      <td>2020-05-01</td>\n",
       "      <td>Approved by the government</td>\n",
       "      <td>f</td>\n",
       "      <td>1</td>\n",
       "    </tr>\n",
       "    <tr>\n",
       "      <td>10</td>\n",
       "      <td>https://www.airbnb.com/rooms/29765</td>\n",
       "      <td>2021-07-12</td>\n",
       "      <td>Luxury suite, Moroccan furnishings</td>\n",
       "      <td>&lt;b&gt;The space&lt;/b&gt;&lt;br /&gt;Romantic, comfortable, a...</td>\n",
       "      <td>Boston's oldest and most historic neighborhood...</td>\n",
       "      <td>https://a0.muscache.com/pictures/621420/77d899...</td>\n",
       "      <td>https://www.airbnb.com/users/show/128280</td>\n",
       "      <td>Elizabeth</td>\n",
       "      <td>2010-05-19</td>\n",
       "      <td>Boston, Massachusetts, United States</td>\n",
       "      <td>...</td>\n",
       "      <td>Entire home/apt</td>\n",
       "      <td>1 bath</td>\n",
       "      <td>[\"Lockbox\", \"First aid kit\", \"Fire extinguishe...</td>\n",
       "      <td>t</td>\n",
       "      <td>2021-07-12</td>\n",
       "      <td>2010-10-10</td>\n",
       "      <td>2021-05-09</td>\n",
       "      <td>STR-454024</td>\n",
       "      <td>f</td>\n",
       "      <td>1</td>\n",
       "    </tr>\n",
       "    <tr>\n",
       "      <td>11</td>\n",
       "      <td>https://www.airbnb.com/rooms/40601</td>\n",
       "      <td>2021-07-12</td>\n",
       "      <td>Private room &amp; bath - Jamaica Plain</td>\n",
       "      <td>Private bedroom and bathroom in my house in Ja...</td>\n",
       "      <td>Jamaica Plain is a diverse neighborhood of Bos...</td>\n",
       "      <td>https://a0.muscache.com/pictures/508984/678a92...</td>\n",
       "      <td>https://www.airbnb.com/users/show/174986</td>\n",
       "      <td>Robert</td>\n",
       "      <td>2010-07-20</td>\n",
       "      <td>Boston, Massachusetts, United States</td>\n",
       "      <td>...</td>\n",
       "      <td>Private room</td>\n",
       "      <td>1.5 baths</td>\n",
       "      <td>[\"Toaster\", \"Host greets you\", \"Oven\", \"Washer...</td>\n",
       "      <td>t</td>\n",
       "      <td>2021-07-12</td>\n",
       "      <td>2012-05-11</td>\n",
       "      <td>2021-05-30</td>\n",
       "      <td>STR-408632</td>\n",
       "      <td>f</td>\n",
       "      <td>1.5</td>\n",
       "    </tr>\n",
       "    <tr>\n",
       "      <td>12</td>\n",
       "      <td>https://www.airbnb.com/rooms/45987</td>\n",
       "      <td>2021-07-12</td>\n",
       "      <td>Gorgeous Garden Studio Charlestown</td>\n",
       "      <td>&lt;b&gt;The space&lt;/b&gt;&lt;br /&gt;Lovely, private garden s...</td>\n",
       "      <td>Historical and safe.</td>\n",
       "      <td>https://a0.muscache.com/pictures/261758/678964...</td>\n",
       "      <td>https://www.airbnb.com/users/show/205107</td>\n",
       "      <td>Atef</td>\n",
       "      <td>2010-08-18</td>\n",
       "      <td>Boston, Massachusetts, United States</td>\n",
       "      <td>...</td>\n",
       "      <td>Entire home/apt</td>\n",
       "      <td>1 bath</td>\n",
       "      <td>[\"Washer\", \"Air conditioning\", \"Smoke alarm\", ...</td>\n",
       "      <td>t</td>\n",
       "      <td>2021-07-12</td>\n",
       "      <td>2010-08-30</td>\n",
       "      <td>2019-12-10</td>\n",
       "      <td>STR-409822</td>\n",
       "      <td>f</td>\n",
       "      <td>1</td>\n",
       "    </tr>\n",
       "    <tr>\n",
       "      <td>13</td>\n",
       "      <td>https://www.airbnb.com/rooms/60029</td>\n",
       "      <td>2021-07-12</td>\n",
       "      <td>Room in geographical heart of Hub</td>\n",
       "      <td>Small, sunny, private room in quiet but urban ...</td>\n",
       "      <td>Architecturally interesting, historic (Roxbury...</td>\n",
       "      <td>https://a0.muscache.com/pictures/3bf41756-488c...</td>\n",
       "      <td>https://www.airbnb.com/users/show/255183</td>\n",
       "      <td>Michelle</td>\n",
       "      <td>2010-10-06</td>\n",
       "      <td>Boston, Massachusetts, United States</td>\n",
       "      <td>...</td>\n",
       "      <td>Private room</td>\n",
       "      <td>1 shared bath</td>\n",
       "      <td>[\"Hot water\", \"Refrigerator\", \"Host greets you...</td>\n",
       "      <td>t</td>\n",
       "      <td>2021-07-12</td>\n",
       "      <td>2012-04-21</td>\n",
       "      <td>2019-08-13</td>\n",
       "      <td>STR-415714</td>\n",
       "      <td>f</td>\n",
       "      <td>1</td>\n",
       "    </tr>\n",
       "  </tbody>\n",
       "</table>\n",
       "<p>5 rows × 34 columns</p>\n",
       "</div>"
      ],
      "text/plain": [
       "                           listing_url last_scraped  \\\n",
       "1    https://www.airbnb.com/rooms/5506   2021-07-12   \n",
       "10  https://www.airbnb.com/rooms/29765   2021-07-12   \n",
       "11  https://www.airbnb.com/rooms/40601   2021-07-12   \n",
       "12  https://www.airbnb.com/rooms/45987   2021-07-12   \n",
       "13  https://www.airbnb.com/rooms/60029   2021-07-12   \n",
       "\n",
       "                                          name  \\\n",
       "1   **Special **   Private! Minutes to center!   \n",
       "10          Luxury suite, Moroccan furnishings   \n",
       "11         Private room & bath - Jamaica Plain   \n",
       "12          Gorgeous Garden Studio Charlestown   \n",
       "13           Room in geographical heart of Hub   \n",
       "\n",
       "                                          description  \\\n",
       "1   Private guest room with private bath, You do n...   \n",
       "10  <b>The space</b><br />Romantic, comfortable, a...   \n",
       "11  Private bedroom and bathroom in my house in Ja...   \n",
       "12  <b>The space</b><br />Lovely, private garden s...   \n",
       "13  Small, sunny, private room in quiet but urban ...   \n",
       "\n",
       "                                neighborhood_overview  \\\n",
       "1   Peaceful, Architecturally interesting, histori...   \n",
       "10  Boston's oldest and most historic neighborhood...   \n",
       "11  Jamaica Plain is a diverse neighborhood of Bos...   \n",
       "12                               Historical and safe.   \n",
       "13  Architecturally interesting, historic (Roxbury...   \n",
       "\n",
       "                                          picture_url  \\\n",
       "1   https://a0.muscache.com/pictures/miso/Hosting-...   \n",
       "10  https://a0.muscache.com/pictures/621420/77d899...   \n",
       "11  https://a0.muscache.com/pictures/508984/678a92...   \n",
       "12  https://a0.muscache.com/pictures/261758/678964...   \n",
       "13  https://a0.muscache.com/pictures/3bf41756-488c...   \n",
       "\n",
       "                                    host_url  host_name  host_since  \\\n",
       "1     https://www.airbnb.com/users/show/8229      Terry  2009-02-19   \n",
       "10  https://www.airbnb.com/users/show/128280  Elizabeth  2010-05-19   \n",
       "11  https://www.airbnb.com/users/show/174986     Robert  2010-07-20   \n",
       "12  https://www.airbnb.com/users/show/205107       Atef  2010-08-18   \n",
       "13  https://www.airbnb.com/users/show/255183   Michelle  2010-10-06   \n",
       "\n",
       "                           host_location  ...        room_type bathrooms_text  \\\n",
       "1   Boston, Massachusetts, United States  ...  Entire home/apt         1 bath   \n",
       "10  Boston, Massachusetts, United States  ...  Entire home/apt         1 bath   \n",
       "11  Boston, Massachusetts, United States  ...     Private room      1.5 baths   \n",
       "12  Boston, Massachusetts, United States  ...  Entire home/apt         1 bath   \n",
       "13  Boston, Massachusetts, United States  ...     Private room  1 shared bath   \n",
       "\n",
       "                                            amenities has_availability  \\\n",
       "1   [\"Washer\", \"Free street parking\", \"First aid k...                t   \n",
       "10  [\"Lockbox\", \"First aid kit\", \"Fire extinguishe...                t   \n",
       "11  [\"Toaster\", \"Host greets you\", \"Oven\", \"Washer...                t   \n",
       "12  [\"Washer\", \"Air conditioning\", \"Smoke alarm\", ...                t   \n",
       "13  [\"Hot water\", \"Refrigerator\", \"Host greets you...                t   \n",
       "\n",
       "   calendar_last_scraped first_review last_review                     license  \\\n",
       "1             2021-07-12   2011-10-23  2020-05-01  Approved by the government   \n",
       "10            2021-07-12   2010-10-10  2021-05-09                  STR-454024   \n",
       "11            2021-07-12   2012-05-11  2021-05-30                  STR-408632   \n",
       "12            2021-07-12   2010-08-30  2019-12-10                  STR-409822   \n",
       "13            2021-07-12   2012-04-21  2019-08-13                  STR-415714   \n",
       "\n",
       "   instant_bookable bathrooms_text_number  \n",
       "1                 f                     1  \n",
       "10                f                     1  \n",
       "11                f                   1.5  \n",
       "12                f                     1  \n",
       "13                f                     1  \n",
       "\n",
       "[5 rows x 34 columns]"
      ]
     },
     "execution_count": 28,
     "metadata": {},
     "output_type": "execute_result"
    }
   ],
   "source": [
    "### check categorical columns\n",
    "cat_df = listings_new.select_dtypes(include=['object'])\n",
    "cat_df.head()"
   ]
  },
  {
   "cell_type": "code",
   "execution_count": 30,
   "metadata": {},
   "outputs": [],
   "source": [
    "## change the bathroom data type to float\n",
    "listings_new[\"bathrooms_text_number\"] = listings_new[\"bathrooms_text_number\"].astype(float)"
   ]
  },
  {
   "cell_type": "code",
   "execution_count": 31,
   "metadata": {},
   "outputs": [
    {
     "data": {
      "text/html": [
       "<div>\n",
       "<style scoped>\n",
       "    .dataframe tbody tr th:only-of-type {\n",
       "        vertical-align: middle;\n",
       "    }\n",
       "\n",
       "    .dataframe tbody tr th {\n",
       "        vertical-align: top;\n",
       "    }\n",
       "\n",
       "    .dataframe thead th {\n",
       "        text-align: right;\n",
       "    }\n",
       "</style>\n",
       "<table border=\"1\" class=\"dataframe\">\n",
       "  <thead>\n",
       "    <tr style=\"text-align: right;\">\n",
       "      <th></th>\n",
       "      <th>bathrooms_text_number</th>\n",
       "      <th>accommodates</th>\n",
       "      <th>bedrooms</th>\n",
       "      <th>beds</th>\n",
       "      <th>number_of_reviews</th>\n",
       "      <th>review_scores_rating</th>\n",
       "      <th>review_scores_accuracy</th>\n",
       "      <th>review_scores_cleanliness</th>\n",
       "      <th>review_scores_checkin</th>\n",
       "      <th>review_scores_communication</th>\n",
       "      <th>...</th>\n",
       "      <th>neighbourhood_cleansed_Roxbury</th>\n",
       "      <th>neighbourhood_cleansed_South Boston</th>\n",
       "      <th>neighbourhood_cleansed_South Boston Waterfront</th>\n",
       "      <th>neighbourhood_cleansed_South End</th>\n",
       "      <th>neighbourhood_cleansed_West End</th>\n",
       "      <th>neighbourhood_cleansed_West Roxbury</th>\n",
       "      <th>room_type_Hotel room</th>\n",
       "      <th>room_type_Private room</th>\n",
       "      <th>room_type_Shared room</th>\n",
       "      <th>instant_bookable_t</th>\n",
       "    </tr>\n",
       "  </thead>\n",
       "  <tbody>\n",
       "    <tr>\n",
       "      <td>1</td>\n",
       "      <td>1.0</td>\n",
       "      <td>2</td>\n",
       "      <td>1.0</td>\n",
       "      <td>1.0</td>\n",
       "      <td>107</td>\n",
       "      <td>4.77</td>\n",
       "      <td>4.87</td>\n",
       "      <td>4.89</td>\n",
       "      <td>4.95</td>\n",
       "      <td>4.89</td>\n",
       "      <td>...</td>\n",
       "      <td>1</td>\n",
       "      <td>0</td>\n",
       "      <td>0</td>\n",
       "      <td>0</td>\n",
       "      <td>0</td>\n",
       "      <td>0</td>\n",
       "      <td>0</td>\n",
       "      <td>0</td>\n",
       "      <td>0</td>\n",
       "      <td>0</td>\n",
       "    </tr>\n",
       "    <tr>\n",
       "      <td>10</td>\n",
       "      <td>1.0</td>\n",
       "      <td>2</td>\n",
       "      <td>1.0</td>\n",
       "      <td>1.0</td>\n",
       "      <td>94</td>\n",
       "      <td>4.96</td>\n",
       "      <td>4.95</td>\n",
       "      <td>4.98</td>\n",
       "      <td>5.00</td>\n",
       "      <td>4.97</td>\n",
       "      <td>...</td>\n",
       "      <td>0</td>\n",
       "      <td>0</td>\n",
       "      <td>0</td>\n",
       "      <td>0</td>\n",
       "      <td>0</td>\n",
       "      <td>0</td>\n",
       "      <td>0</td>\n",
       "      <td>0</td>\n",
       "      <td>0</td>\n",
       "      <td>0</td>\n",
       "    </tr>\n",
       "    <tr>\n",
       "      <td>11</td>\n",
       "      <td>1.5</td>\n",
       "      <td>2</td>\n",
       "      <td>1.0</td>\n",
       "      <td>1.0</td>\n",
       "      <td>80</td>\n",
       "      <td>4.97</td>\n",
       "      <td>4.95</td>\n",
       "      <td>5.00</td>\n",
       "      <td>4.97</td>\n",
       "      <td>4.94</td>\n",
       "      <td>...</td>\n",
       "      <td>0</td>\n",
       "      <td>0</td>\n",
       "      <td>0</td>\n",
       "      <td>0</td>\n",
       "      <td>0</td>\n",
       "      <td>0</td>\n",
       "      <td>0</td>\n",
       "      <td>1</td>\n",
       "      <td>0</td>\n",
       "      <td>0</td>\n",
       "    </tr>\n",
       "    <tr>\n",
       "      <td>12</td>\n",
       "      <td>1.0</td>\n",
       "      <td>3</td>\n",
       "      <td>1.0</td>\n",
       "      <td>0.0</td>\n",
       "      <td>130</td>\n",
       "      <td>4.63</td>\n",
       "      <td>4.66</td>\n",
       "      <td>4.76</td>\n",
       "      <td>4.73</td>\n",
       "      <td>4.68</td>\n",
       "      <td>...</td>\n",
       "      <td>0</td>\n",
       "      <td>0</td>\n",
       "      <td>0</td>\n",
       "      <td>0</td>\n",
       "      <td>0</td>\n",
       "      <td>0</td>\n",
       "      <td>0</td>\n",
       "      <td>0</td>\n",
       "      <td>0</td>\n",
       "      <td>0</td>\n",
       "    </tr>\n",
       "    <tr>\n",
       "      <td>13</td>\n",
       "      <td>1.0</td>\n",
       "      <td>1</td>\n",
       "      <td>1.0</td>\n",
       "      <td>1.0</td>\n",
       "      <td>141</td>\n",
       "      <td>4.73</td>\n",
       "      <td>4.65</td>\n",
       "      <td>4.58</td>\n",
       "      <td>4.86</td>\n",
       "      <td>4.91</td>\n",
       "      <td>...</td>\n",
       "      <td>1</td>\n",
       "      <td>0</td>\n",
       "      <td>0</td>\n",
       "      <td>0</td>\n",
       "      <td>0</td>\n",
       "      <td>0</td>\n",
       "      <td>0</td>\n",
       "      <td>1</td>\n",
       "      <td>0</td>\n",
       "      <td>0</td>\n",
       "    </tr>\n",
       "  </tbody>\n",
       "</table>\n",
       "<p>5 rows × 44 columns</p>\n",
       "</div>"
      ],
      "text/plain": [
       "    bathrooms_text_number  accommodates  bedrooms  beds  number_of_reviews  \\\n",
       "1                     1.0             2       1.0   1.0                107   \n",
       "10                    1.0             2       1.0   1.0                 94   \n",
       "11                    1.5             2       1.0   1.0                 80   \n",
       "12                    1.0             3       1.0   0.0                130   \n",
       "13                    1.0             1       1.0   1.0                141   \n",
       "\n",
       "    review_scores_rating  review_scores_accuracy  review_scores_cleanliness  \\\n",
       "1                   4.77                    4.87                       4.89   \n",
       "10                  4.96                    4.95                       4.98   \n",
       "11                  4.97                    4.95                       5.00   \n",
       "12                  4.63                    4.66                       4.76   \n",
       "13                  4.73                    4.65                       4.58   \n",
       "\n",
       "    review_scores_checkin  review_scores_communication  ...  \\\n",
       "1                    4.95                         4.89  ...   \n",
       "10                   5.00                         4.97  ...   \n",
       "11                   4.97                         4.94  ...   \n",
       "12                   4.73                         4.68  ...   \n",
       "13                   4.86                         4.91  ...   \n",
       "\n",
       "    neighbourhood_cleansed_Roxbury  neighbourhood_cleansed_South Boston  \\\n",
       "1                                1                                    0   \n",
       "10                               0                                    0   \n",
       "11                               0                                    0   \n",
       "12                               0                                    0   \n",
       "13                               1                                    0   \n",
       "\n",
       "    neighbourhood_cleansed_South Boston Waterfront  \\\n",
       "1                                                0   \n",
       "10                                               0   \n",
       "11                                               0   \n",
       "12                                               0   \n",
       "13                                               0   \n",
       "\n",
       "    neighbourhood_cleansed_South End  neighbourhood_cleansed_West End  \\\n",
       "1                                  0                                0   \n",
       "10                                 0                                0   \n",
       "11                                 0                                0   \n",
       "12                                 0                                0   \n",
       "13                                 0                                0   \n",
       "\n",
       "    neighbourhood_cleansed_West Roxbury  room_type_Hotel room  \\\n",
       "1                                     0                     0   \n",
       "10                                    0                     0   \n",
       "11                                    0                     0   \n",
       "12                                    0                     0   \n",
       "13                                    0                     0   \n",
       "\n",
       "    room_type_Private room  room_type_Shared room  instant_bookable_t  \n",
       "1                        0                      0                   0  \n",
       "10                       0                      0                   0  \n",
       "11                       1                      0                   0  \n",
       "12                       0                      0                   0  \n",
       "13                       1                      0                   0  \n",
       "\n",
       "[5 rows x 44 columns]"
      ]
     },
     "execution_count": 31,
     "metadata": {},
     "output_type": "execute_result"
    }
   ],
   "source": [
    "# create a new data set to test model\n",
    "df  = listings_new[[\"bathrooms_text_number\",\"accommodates\",\"bedrooms\",\"beds\",\"number_of_reviews\",\n",
    "                    \"review_scores_rating\",\"review_scores_accuracy\",\"review_scores_cleanliness\",\n",
    "                    \"review_scores_checkin\",\"review_scores_communication\",\n",
    "                    \"review_scores_location\",\"review_scores_value\",\"reviews_per_month\",\n",
    "                    \"host_response_time\",\"host_is_superhost\",\"neighbourhood_cleansed\",\n",
    "                    \"room_type\",\"instant_bookable\",\"price\"\n",
    "                   ]]\n",
    "\n",
    "#Pull a list of the column names of the categorical variables\n",
    "cat_cols_lst = cat_columns\n",
    "\n",
    "# get dummy variables for categorical columns\n",
    "df_new = create_dummy_df(df, cat_cols_lst, dummy_na=False) #Use your newly created function\n",
    "\n",
    "# Show a header of df_new to check\n",
    "df_new.head()"
   ]
  },
  {
   "cell_type": "code",
   "execution_count": 32,
   "metadata": {},
   "outputs": [],
   "source": [
    "#Split your data into an X matrix and a response vector y\n",
    "X = df_new.drop('price', axis=1)\n",
    "y = df_new['price']"
   ]
  },
  {
   "cell_type": "code",
   "execution_count": 33,
   "metadata": {},
   "outputs": [],
   "source": [
    "X_train, X_test, y_train, y_test = train_test_split(X, y, test_size= 0.3, random_state= 42)\n",
    "lm_model = LinearRegression(normalize=True) # Instantiate\n",
    "lm_model.fit(X_train, y_train) #Fit\n",
    "    \n",
    "#Predict using your model\n",
    "y_test_preds = lm_model.predict(X_test)\n",
    "y_train_preds = lm_model.predict(X_train)\n",
    "\n",
    "#Score using your model\n",
    "test_score = r2_score(y_test, y_test_preds)\n",
    "train_score = r2_score(y_train, y_train_preds)"
   ]
  },
  {
   "cell_type": "code",
   "execution_count": 34,
   "metadata": {},
   "outputs": [
    {
     "name": "stdout",
     "output_type": "stream",
     "text": [
      "0.5793742945761544\n",
      "0.7622677694973752\n"
     ]
    }
   ],
   "source": [
    "print(test_score)\n",
    "print(train_score)"
   ]
  },
  {
   "cell_type": "code",
   "execution_count": null,
   "metadata": {},
   "outputs": [],
   "source": []
  }
 ],
 "metadata": {
  "kernelspec": {
   "display_name": "Python 3",
   "language": "python",
   "name": "python3"
  },
  "language_info": {
   "codemirror_mode": {
    "name": "ipython",
    "version": 3
   },
   "file_extension": ".py",
   "mimetype": "text/x-python",
   "name": "python",
   "nbconvert_exporter": "python",
   "pygments_lexer": "ipython3",
   "version": "3.7.4"
  }
 },
 "nbformat": 4,
 "nbformat_minor": 2
}
